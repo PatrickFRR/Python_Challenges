{
 "cells": [
  {
   "cell_type": "code",
   "execution_count": 2,
   "metadata": {},
   "outputs": [],
   "source": [
    "#0111\n",
    "import csv\n",
    "\n",
    "file = open(\"Books.csv\", \"w\")\n",
    "newrecord = \"To kill A Mochingbird, Harper Lee, 1960\\n\"\n",
    "file.write(str(newrecord))\n",
    "newrecord = \"A Brief History of Time, Stephen Hawking, 1988\\n\"\n",
    "file.write(str(newrecord))\n",
    "newrecord = \"The Great Gatsby, F. Scott Fitzgerald, 1992\\n\"\n",
    "file.write(str(newrecord))\n",
    "newrecord = \"Rayuela, Julio Cortázar, 1972\\n\"\n",
    "file.write(str(newrecord))\n",
    "newrecord = \"Pride and Prejudice, Jane Austen, 1813\\n\"\n",
    "file.write(str(newrecord))\n",
    "file.close()"
   ]
  },
  {
   "cell_type": "code",
   "execution_count": 3,
   "metadata": {},
   "outputs": [
    {
     "name": "stdout",
     "output_type": "stream",
     "text": [
      "To kill A Mochingbird, Harper Lee, 1960\n",
      "\n",
      "A Brief History of Time, Stephen Hawking, 1988\n",
      "\n",
      "The Great Gatsby, F. Scott Fitzgerald, 1992\n",
      "\n",
      "Rayuela, Julio Cortázar, 1972\n",
      "\n",
      "Pride and Prejudice, Jane Austen, 1813\n",
      "\n",
      ",,\n",
      "\n"
     ]
    }
   ],
   "source": [
    "#0112\n",
    "file = open(\"Books.csv\", \"a\")\n",
    "title = input(\"Enter a title: \")\n",
    "author = input(\"Enter a author: \")\n",
    "year = input(\"Enter the year it was released: \")\n",
    "newrecord = title + \",\" + author + \",\" + year + \"\\n\"\n",
    "file.write(str(newrecord))\n",
    "file.close()\n",
    "\n",
    "file = open(\"Books.csv\", \"r\")\n",
    "for row in file:\n",
    "    print(row)\n",
    "file.close()"
   ]
  },
  {
   "cell_type": "code",
   "execution_count": null,
   "metadata": {},
   "outputs": [],
   "source": [
    "#0113"
   ]
  }
 ],
 "metadata": {
  "interpreter": {
   "hash": "ef5b265d1e9533366cc8ba07638d30055ef3b19f58f438424c8609f9b3dcb5eb"
  },
  "kernelspec": {
   "display_name": "Python 3.9.12 ('base')",
   "language": "python",
   "name": "python3"
  },
  "language_info": {
   "codemirror_mode": {
    "name": "ipython",
    "version": 3
   },
   "file_extension": ".py",
   "mimetype": "text/x-python",
   "name": "python",
   "nbconvert_exporter": "python",
   "pygments_lexer": "ipython3",
   "version": "3.9.12"
  },
  "orig_nbformat": 4
 },
 "nbformat": 4,
 "nbformat_minor": 2
}
